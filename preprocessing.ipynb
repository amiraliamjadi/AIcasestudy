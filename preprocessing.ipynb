{
 "cells": [
  {
   "cell_type": "code",
   "execution_count": 1,
   "metadata": {},
   "outputs": [],
   "source": [
    "import pandas as pd"
   ]
  },
  {
   "cell_type": "code",
   "execution_count": 2,
   "metadata": {},
   "outputs": [],
   "source": [
    "# path and alias\n",
    "PRE_FILE_PATH = \"data/\"\n",
    "POST_FILE_PATH = \"data/post/\"\n",
    "file_name = \"Electronics\""
   ]
  },
  {
   "cell_type": "code",
   "execution_count": 3,
   "metadata": {},
   "outputs": [
    {
     "name": "stdout",
     "output_type": "stream",
     "text": [
      "(1000, 10)\n"
     ]
    },
    {
     "data": {
      "text/html": [
       "<div>\n",
       "<style scoped>\n",
       "    .dataframe tbody tr th:only-of-type {\n",
       "        vertical-align: middle;\n",
       "    }\n",
       "\n",
       "    .dataframe tbody tr th {\n",
       "        vertical-align: top;\n",
       "    }\n",
       "\n",
       "    .dataframe thead th {\n",
       "        text-align: right;\n",
       "    }\n",
       "</style>\n",
       "<table border=\"1\" class=\"dataframe\">\n",
       "  <thead>\n",
       "    <tr style=\"text-align: right;\">\n",
       "      <th></th>\n",
       "      <th>rating</th>\n",
       "      <th>title</th>\n",
       "      <th>text</th>\n",
       "      <th>images</th>\n",
       "      <th>asin</th>\n",
       "      <th>parent_asin</th>\n",
       "      <th>user_id</th>\n",
       "      <th>timestamp</th>\n",
       "      <th>helpful_vote</th>\n",
       "      <th>verified_purchase</th>\n",
       "    </tr>\n",
       "  </thead>\n",
       "  <tbody>\n",
       "    <tr>\n",
       "      <th>0</th>\n",
       "      <td>3</td>\n",
       "      <td>Smells like gasoline! Going back!</td>\n",
       "      <td>First &amp; most offensive: they reek of gasoline ...</td>\n",
       "      <td>[{'small_image_url': 'https://m.media-amazon.c...</td>\n",
       "      <td>B083NRGZMM</td>\n",
       "      <td>B083NRGZMM</td>\n",
       "      <td>AFKZENTNBQ7A7V7UXW5JJI6UGRYQ</td>\n",
       "      <td>2022-07-18 22:58:37.948</td>\n",
       "      <td>0</td>\n",
       "      <td>True</td>\n",
       "    </tr>\n",
       "    <tr>\n",
       "      <th>1</th>\n",
       "      <td>1</td>\n",
       "      <td>Didn’t work at all lenses loose/broken.</td>\n",
       "      <td>These didn’t work. Idk if they were damaged in...</td>\n",
       "      <td>[]</td>\n",
       "      <td>B07N69T6TM</td>\n",
       "      <td>B07N69T6TM</td>\n",
       "      <td>AFKZENTNBQ7A7V7UXW5JJI6UGRYQ</td>\n",
       "      <td>2020-06-20 18:42:29.731</td>\n",
       "      <td>0</td>\n",
       "      <td>True</td>\n",
       "    </tr>\n",
       "    <tr>\n",
       "      <th>2</th>\n",
       "      <td>5</td>\n",
       "      <td>Excellent!</td>\n",
       "      <td>I love these. They even come with a carry case...</td>\n",
       "      <td>[]</td>\n",
       "      <td>B01G8JO5F2</td>\n",
       "      <td>B01G8JO5F2</td>\n",
       "      <td>AFKZENTNBQ7A7V7UXW5JJI6UGRYQ</td>\n",
       "      <td>2018-04-07 09:23:37.534</td>\n",
       "      <td>0</td>\n",
       "      <td>True</td>\n",
       "    </tr>\n",
       "    <tr>\n",
       "      <th>3</th>\n",
       "      <td>5</td>\n",
       "      <td>Great laptop backpack!</td>\n",
       "      <td>I was searching for a sturdy backpack for scho...</td>\n",
       "      <td>[]</td>\n",
       "      <td>B001OC5JKY</td>\n",
       "      <td>B001OC5JKY</td>\n",
       "      <td>AGGZ357AO26RQZVRLGU4D4N52DZQ</td>\n",
       "      <td>2010-11-20 18:41:35.000</td>\n",
       "      <td>18</td>\n",
       "      <td>True</td>\n",
       "    </tr>\n",
       "    <tr>\n",
       "      <th>4</th>\n",
       "      <td>5</td>\n",
       "      <td>Best Headphones in the Fifties price range!</td>\n",
       "      <td>I've bought these headphones three times becau...</td>\n",
       "      <td>[]</td>\n",
       "      <td>B013J7WUGC</td>\n",
       "      <td>B07CJYMRWM</td>\n",
       "      <td>AG2L7H23R5LLKDKLBEF2Q3L2MVDA</td>\n",
       "      <td>2023-02-17 02:39:41.238</td>\n",
       "      <td>0</td>\n",
       "      <td>True</td>\n",
       "    </tr>\n",
       "  </tbody>\n",
       "</table>\n",
       "</div>"
      ],
      "text/plain": [
       "   rating                                        title  \\\n",
       "0       3            Smells like gasoline! Going back!   \n",
       "1       1      Didn’t work at all lenses loose/broken.   \n",
       "2       5                                   Excellent!   \n",
       "3       5                       Great laptop backpack!   \n",
       "4       5  Best Headphones in the Fifties price range!   \n",
       "\n",
       "                                                text  \\\n",
       "0  First & most offensive: they reek of gasoline ...   \n",
       "1  These didn’t work. Idk if they were damaged in...   \n",
       "2  I love these. They even come with a carry case...   \n",
       "3  I was searching for a sturdy backpack for scho...   \n",
       "4  I've bought these headphones three times becau...   \n",
       "\n",
       "                                              images        asin parent_asin  \\\n",
       "0  [{'small_image_url': 'https://m.media-amazon.c...  B083NRGZMM  B083NRGZMM   \n",
       "1                                                 []  B07N69T6TM  B07N69T6TM   \n",
       "2                                                 []  B01G8JO5F2  B01G8JO5F2   \n",
       "3                                                 []  B001OC5JKY  B001OC5JKY   \n",
       "4                                                 []  B013J7WUGC  B07CJYMRWM   \n",
       "\n",
       "                        user_id               timestamp  helpful_vote  \\\n",
       "0  AFKZENTNBQ7A7V7UXW5JJI6UGRYQ 2022-07-18 22:58:37.948             0   \n",
       "1  AFKZENTNBQ7A7V7UXW5JJI6UGRYQ 2020-06-20 18:42:29.731             0   \n",
       "2  AFKZENTNBQ7A7V7UXW5JJI6UGRYQ 2018-04-07 09:23:37.534             0   \n",
       "3  AGGZ357AO26RQZVRLGU4D4N52DZQ 2010-11-20 18:41:35.000            18   \n",
       "4  AG2L7H23R5LLKDKLBEF2Q3L2MVDA 2023-02-17 02:39:41.238             0   \n",
       "\n",
       "   verified_purchase  \n",
       "0               True  \n",
       "1               True  \n",
       "2               True  \n",
       "3               True  \n",
       "4               True  "
      ]
     },
     "execution_count": 3,
     "metadata": {},
     "output_type": "execute_result"
    }
   ],
   "source": [
    "# sample on first 1000 data\n",
    "df = pd.read_json(PRE_FILE_PATH+file_name+'.jsonl',lines=True, nrows=1000)\n",
    "\n",
    "print(df.shape)\n",
    "\n",
    "df.head()"
   ]
  },
  {
   "cell_type": "code",
   "execution_count": 4,
   "metadata": {},
   "outputs": [
    {
     "name": "stdout",
     "output_type": "stream",
     "text": [
      "<class 'pandas.core.frame.DataFrame'>\n",
      "RangeIndex: 1000 entries, 0 to 999\n",
      "Data columns (total 10 columns):\n",
      " #   Column             Non-Null Count  Dtype         \n",
      "---  ------             --------------  -----         \n",
      " 0   rating             1000 non-null   int64         \n",
      " 1   title              1000 non-null   object        \n",
      " 2   text               1000 non-null   object        \n",
      " 3   images             1000 non-null   object        \n",
      " 4   asin               1000 non-null   object        \n",
      " 5   parent_asin        1000 non-null   object        \n",
      " 6   user_id            1000 non-null   object        \n",
      " 7   timestamp          1000 non-null   datetime64[ns]\n",
      " 8   helpful_vote       1000 non-null   int64         \n",
      " 9   verified_purchase  1000 non-null   bool          \n",
      "dtypes: bool(1), datetime64[ns](1), int64(2), object(6)\n",
      "memory usage: 71.4+ KB\n"
     ]
    }
   ],
   "source": [
    "df.info()"
   ]
  },
  {
   "cell_type": "code",
   "execution_count": 5,
   "metadata": {},
   "outputs": [
    {
     "data": {
      "text/plain": [
       "Index(['rating', 'title', 'text', 'images', 'asin', 'parent_asin', 'user_id',\n",
       "       'timestamp', 'helpful_vote', 'verified_purchase'],\n",
       "      dtype='object')"
      ]
     },
     "execution_count": 5,
     "metadata": {},
     "output_type": "execute_result"
    }
   ],
   "source": [
    "# all columns\n",
    "df.columns"
   ]
  },
  {
   "cell_type": "code",
   "execution_count": 6,
   "metadata": {},
   "outputs": [],
   "source": [
    "categories = ['user_id', 'parent_asin', 'rating']\n",
    "dtypes = {'user_id': object, 'parent_asin': object, 'rating': int}\n",
    "output = pd.DataFrame(columns=categories)\n",
    "chunks = []\n",
    "for chunk in pd.read_json(PRE_FILE_PATH+file_name+'.jsonl',lines=True, chunksize=10000, dtype=dtypes):\n",
    "    new_df = chunk[categories]\n",
    "    chunks.append(new_df)\n",
    "\n",
    "output = pd.concat(chunks, ignore_index=True)"
   ]
  },
  {
   "cell_type": "code",
   "execution_count": 7,
   "metadata": {},
   "outputs": [
    {
     "data": {
      "text/html": [
       "<div>\n",
       "<style scoped>\n",
       "    .dataframe tbody tr th:only-of-type {\n",
       "        vertical-align: middle;\n",
       "    }\n",
       "\n",
       "    .dataframe tbody tr th {\n",
       "        vertical-align: top;\n",
       "    }\n",
       "\n",
       "    .dataframe thead th {\n",
       "        text-align: right;\n",
       "    }\n",
       "</style>\n",
       "<table border=\"1\" class=\"dataframe\">\n",
       "  <thead>\n",
       "    <tr style=\"text-align: right;\">\n",
       "      <th></th>\n",
       "      <th>user_id</th>\n",
       "      <th>parent_asin</th>\n",
       "      <th>rating</th>\n",
       "    </tr>\n",
       "  </thead>\n",
       "  <tbody>\n",
       "    <tr>\n",
       "      <th>0</th>\n",
       "      <td>AFKZENTNBQ7A7V7UXW5JJI6UGRYQ</td>\n",
       "      <td>B083NRGZMM</td>\n",
       "      <td>3</td>\n",
       "    </tr>\n",
       "    <tr>\n",
       "      <th>1</th>\n",
       "      <td>AFKZENTNBQ7A7V7UXW5JJI6UGRYQ</td>\n",
       "      <td>B07N69T6TM</td>\n",
       "      <td>1</td>\n",
       "    </tr>\n",
       "    <tr>\n",
       "      <th>2</th>\n",
       "      <td>AFKZENTNBQ7A7V7UXW5JJI6UGRYQ</td>\n",
       "      <td>B01G8JO5F2</td>\n",
       "      <td>5</td>\n",
       "    </tr>\n",
       "    <tr>\n",
       "      <th>3</th>\n",
       "      <td>AGGZ357AO26RQZVRLGU4D4N52DZQ</td>\n",
       "      <td>B001OC5JKY</td>\n",
       "      <td>5</td>\n",
       "    </tr>\n",
       "    <tr>\n",
       "      <th>4</th>\n",
       "      <td>AG2L7H23R5LLKDKLBEF2Q3L2MVDA</td>\n",
       "      <td>B07CJYMRWM</td>\n",
       "      <td>5</td>\n",
       "    </tr>\n",
       "  </tbody>\n",
       "</table>\n",
       "</div>"
      ],
      "text/plain": [
       "                        user_id parent_asin  rating\n",
       "0  AFKZENTNBQ7A7V7UXW5JJI6UGRYQ  B083NRGZMM       3\n",
       "1  AFKZENTNBQ7A7V7UXW5JJI6UGRYQ  B07N69T6TM       1\n",
       "2  AFKZENTNBQ7A7V7UXW5JJI6UGRYQ  B01G8JO5F2       5\n",
       "3  AGGZ357AO26RQZVRLGU4D4N52DZQ  B001OC5JKY       5\n",
       "4  AG2L7H23R5LLKDKLBEF2Q3L2MVDA  B07CJYMRWM       5"
      ]
     },
     "execution_count": 7,
     "metadata": {},
     "output_type": "execute_result"
    }
   ],
   "source": [
    "output.head()"
   ]
  },
  {
   "cell_type": "code",
   "execution_count": 8,
   "metadata": {},
   "outputs": [
    {
     "name": "stdout",
     "output_type": "stream",
     "text": [
      "<class 'pandas.core.frame.DataFrame'>\n",
      "RangeIndex: 43886944 entries, 0 to 43886943\n",
      "Data columns (total 3 columns):\n",
      " #   Column       Dtype \n",
      "---  ------       ----- \n",
      " 0   user_id      object\n",
      " 1   parent_asin  object\n",
      " 2   rating       int64 \n",
      "dtypes: int64(1), object(2)\n",
      "memory usage: 1004.5+ MB\n"
     ]
    }
   ],
   "source": [
    "output.info()"
   ]
  },
  {
   "cell_type": "code",
   "execution_count": 9,
   "metadata": {},
   "outputs": [
    {
     "data": {
      "text/plain": [
       "user_id        0\n",
       "parent_asin    0\n",
       "rating         0\n",
       "dtype: int64"
      ]
     },
     "execution_count": 9,
     "metadata": {},
     "output_type": "execute_result"
    }
   ],
   "source": [
    "# Checking for null values\n",
    "output.isnull().sum()"
   ]
  },
  {
   "cell_type": "code",
   "execution_count": 10,
   "metadata": {},
   "outputs": [
    {
     "data": {
      "text/html": [
       "<div>\n",
       "<style scoped>\n",
       "    .dataframe tbody tr th:only-of-type {\n",
       "        vertical-align: middle;\n",
       "    }\n",
       "\n",
       "    .dataframe tbody tr th {\n",
       "        vertical-align: top;\n",
       "    }\n",
       "\n",
       "    .dataframe thead th {\n",
       "        text-align: right;\n",
       "    }\n",
       "</style>\n",
       "<table border=\"1\" class=\"dataframe\">\n",
       "  <thead>\n",
       "    <tr style=\"text-align: right;\">\n",
       "      <th></th>\n",
       "      <th>user_id</th>\n",
       "      <th>parent_asin</th>\n",
       "      <th>rating</th>\n",
       "    </tr>\n",
       "  </thead>\n",
       "  <tbody>\n",
       "    <tr>\n",
       "      <th>0</th>\n",
       "      <td>AFKZENTNBQ7A7V7UXW5JJI6UGRYQ</td>\n",
       "      <td>B083NRGZMM</td>\n",
       "      <td>3</td>\n",
       "    </tr>\n",
       "    <tr>\n",
       "      <th>1</th>\n",
       "      <td>AFKZENTNBQ7A7V7UXW5JJI6UGRYQ</td>\n",
       "      <td>B07N69T6TM</td>\n",
       "      <td>1</td>\n",
       "    </tr>\n",
       "    <tr>\n",
       "      <th>2</th>\n",
       "      <td>AFKZENTNBQ7A7V7UXW5JJI6UGRYQ</td>\n",
       "      <td>B01G8JO5F2</td>\n",
       "      <td>5</td>\n",
       "    </tr>\n",
       "    <tr>\n",
       "      <th>3</th>\n",
       "      <td>AGGZ357AO26RQZVRLGU4D4N52DZQ</td>\n",
       "      <td>B001OC5JKY</td>\n",
       "      <td>5</td>\n",
       "    </tr>\n",
       "    <tr>\n",
       "      <th>4</th>\n",
       "      <td>AG2L7H23R5LLKDKLBEF2Q3L2MVDA</td>\n",
       "      <td>B07CJYMRWM</td>\n",
       "      <td>5</td>\n",
       "    </tr>\n",
       "    <tr>\n",
       "      <th>...</th>\n",
       "      <td>...</td>\n",
       "      <td>...</td>\n",
       "      <td>...</td>\n",
       "    </tr>\n",
       "    <tr>\n",
       "      <th>43886939</th>\n",
       "      <td>AG6GCWFPTEYFDEC6IFB2CIJGRBZQ</td>\n",
       "      <td>B0055WSPGO</td>\n",
       "      <td>5</td>\n",
       "    </tr>\n",
       "    <tr>\n",
       "      <th>43886940</th>\n",
       "      <td>AGVM4Q7V5CGR5SRZNW7GTMXQMNDA</td>\n",
       "      <td>B08GLRVD95</td>\n",
       "      <td>5</td>\n",
       "    </tr>\n",
       "    <tr>\n",
       "      <th>43886941</th>\n",
       "      <td>AFDKH2CK3YBL2TQXVVGJRZHQJKIQ</td>\n",
       "      <td>B07CPP72N2</td>\n",
       "      <td>1</td>\n",
       "    </tr>\n",
       "    <tr>\n",
       "      <th>43886942</th>\n",
       "      <td>AGDC4SOFDQ3UXPXMEYJ57SMM3F4A</td>\n",
       "      <td>B074MPGVYH</td>\n",
       "      <td>5</td>\n",
       "    </tr>\n",
       "    <tr>\n",
       "      <th>43886943</th>\n",
       "      <td>AHO2PRGENQMCOKG6RHQ4EKJYPEZQ</td>\n",
       "      <td>B0145JXTN6</td>\n",
       "      <td>1</td>\n",
       "    </tr>\n",
       "  </tbody>\n",
       "</table>\n",
       "<p>43886944 rows × 3 columns</p>\n",
       "</div>"
      ],
      "text/plain": [
       "                               user_id parent_asin  rating\n",
       "0         AFKZENTNBQ7A7V7UXW5JJI6UGRYQ  B083NRGZMM       3\n",
       "1         AFKZENTNBQ7A7V7UXW5JJI6UGRYQ  B07N69T6TM       1\n",
       "2         AFKZENTNBQ7A7V7UXW5JJI6UGRYQ  B01G8JO5F2       5\n",
       "3         AGGZ357AO26RQZVRLGU4D4N52DZQ  B001OC5JKY       5\n",
       "4         AG2L7H23R5LLKDKLBEF2Q3L2MVDA  B07CJYMRWM       5\n",
       "...                                ...         ...     ...\n",
       "43886939  AG6GCWFPTEYFDEC6IFB2CIJGRBZQ  B0055WSPGO       5\n",
       "43886940  AGVM4Q7V5CGR5SRZNW7GTMXQMNDA  B08GLRVD95       5\n",
       "43886941  AFDKH2CK3YBL2TQXVVGJRZHQJKIQ  B07CPP72N2       1\n",
       "43886942  AGDC4SOFDQ3UXPXMEYJ57SMM3F4A  B074MPGVYH       5\n",
       "43886943  AHO2PRGENQMCOKG6RHQ4EKJYPEZQ  B0145JXTN6       1\n",
       "\n",
       "[43886944 rows x 3 columns]"
      ]
     },
     "execution_count": 10,
     "metadata": {},
     "output_type": "execute_result"
    }
   ],
   "source": [
    "# handle null values\n",
    "output.dropna()"
   ]
  },
  {
   "cell_type": "code",
   "execution_count": 11,
   "metadata": {},
   "outputs": [
    {
     "name": "stdout",
     "output_type": "stream",
     "text": [
      "<class 'pandas.core.frame.DataFrame'>\n",
      "RangeIndex: 43886944 entries, 0 to 43886943\n",
      "Data columns (total 3 columns):\n",
      " #   Column       Dtype \n",
      "---  ------       ----- \n",
      " 0   user_id      object\n",
      " 1   parent_asin  object\n",
      " 2   rating       int64 \n",
      "dtypes: int64(1), object(2)\n",
      "memory usage: 1004.5+ MB\n"
     ]
    }
   ],
   "source": [
    "output.info()"
   ]
  },
  {
   "cell_type": "code",
   "execution_count": 13,
   "metadata": {},
   "outputs": [],
   "source": [
    "# save to pickle format\n",
    "output.to_pickle(POST_FILE_PATH+file_name+'.pkl')"
   ]
  }
 ],
 "metadata": {
  "kernelspec": {
   "display_name": "Python 3",
   "language": "python",
   "name": "python3"
  },
  "language_info": {
   "codemirror_mode": {
    "name": "ipython",
    "version": 3
   },
   "file_extension": ".py",
   "mimetype": "text/x-python",
   "name": "python",
   "nbconvert_exporter": "python",
   "pygments_lexer": "ipython3",
   "version": "3.12.3"
  }
 },
 "nbformat": 4,
 "nbformat_minor": 2
}
